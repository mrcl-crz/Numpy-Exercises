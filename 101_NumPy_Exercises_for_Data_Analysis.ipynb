{
  "nbformat": 4,
  "nbformat_minor": 0,
  "metadata": {
    "colab": {
      "name": "101 NumPy Exercises for Data Analysis.ipynb",
      "provenance": []
    },
    "kernelspec": {
      "name": "python3",
      "display_name": "Python 3"
    },
    "language_info": {
      "name": "python"
    }
  },
  "cells": [
    {
      "cell_type": "markdown",
      "source": [
        "#**101 NumPy Exercises for Data Analysis**\n",
        "[Página dos exercícios](https://www.machinelearningplus.com/python/101-numpy-exercises-python/)\n",
        "\n",
        "The goal of the numpy exercises is to serve as a reference as well as to get you to apply numpy beyond the basics. The questions are of 4 levels of difficulties with L1 being the easiest to L4 being the hardest."
      ],
      "metadata": {
        "id": "D8K4HHsmy8br"
      }
    },
    {
      "cell_type": "markdown",
      "source": [
        "##**1. Import numpy as np and see the version**\n",
        "Difficulty Level: L1 \n",
        "\n",
        "Q. Import numpy as `np` and print the version number."
      ],
      "metadata": {
        "id": "QYzvJKBTzV7E"
      }
    },
    {
      "cell_type": "code",
      "source": [
        "import numpy as np\n",
        "print(np.__version__)"
      ],
      "metadata": {
        "colab": {
          "base_uri": "https://localhost:8080/"
        },
        "id": "qNBY8jKtzrhu",
        "outputId": "3831ab41-9c06-4e1e-ed08-8a8ecf2d2f45"
      },
      "execution_count": 1,
      "outputs": [
        {
          "output_type": "stream",
          "name": "stdout",
          "text": [
            "1.21.5\n"
          ]
        }
      ]
    },
    {
      "cell_type": "markdown",
      "source": [
        "##**2. How to create a 1D array?**\n",
        "Difficulty Level: L1 \n",
        "\n",
        "Q. Create a 1D array of numbers from 0 to 9."
      ],
      "metadata": {
        "id": "VMetst9vz8x7"
      }
    },
    {
      "cell_type": "code",
      "source": [
        "array_1d = np.arange(10)\n",
        "array_1d"
      ],
      "metadata": {
        "colab": {
          "base_uri": "https://localhost:8080/"
        },
        "id": "CW8IltyNz_Ls",
        "outputId": "ac102677-f3e4-4a41-dc1b-70512aebebd7"
      },
      "execution_count": 2,
      "outputs": [
        {
          "output_type": "execute_result",
          "data": {
            "text/plain": [
              "array([0, 1, 2, 3, 4, 5, 6, 7, 8, 9])"
            ]
          },
          "metadata": {},
          "execution_count": 2
        }
      ]
    },
    {
      "cell_type": "markdown",
      "source": [
        "##**3. How to create a boolean array?**\n",
        "Difficulty Level: L1 \n",
        "\n",
        "Q. Create a 3×3 numpy array of all True’s."
      ],
      "metadata": {
        "id": "UWq5HzYc0r4O"
      }
    },
    {
      "cell_type": "code",
      "source": [
        "bool_array = np.full((3,3), True, dtype=bool)\n",
        "bool_array"
      ],
      "metadata": {
        "colab": {
          "base_uri": "https://localhost:8080/"
        },
        "id": "N7EYEkkc0G2R",
        "outputId": "f9d61b2f-715b-46e4-81df-8df34c6d55ed"
      },
      "execution_count": 22,
      "outputs": [
        {
          "output_type": "execute_result",
          "data": {
            "text/plain": [
              "array([[ True,  True,  True],\n",
              "       [ True,  True,  True],\n",
              "       [ True,  True,  True]])"
            ]
          },
          "metadata": {},
          "execution_count": 22
        }
      ]
    },
    {
      "cell_type": "markdown",
      "source": [
        "#**4. How to extract items that satisfy a given condition from 1D array?**\n",
        "Difficulty Level: L1 \n",
        "\n",
        "Q. Extract all odd numbers from arr.\n",
        "\n",
        "Input:\n",
        "\n",
        "> arr = np.array([0, 1, 2, 3, 4, 5, 6, 7, 8, 9])\n",
        "\n",
        "Desired output:\n",
        "> array([1, 3, 5, 7, 9])"
      ],
      "metadata": {
        "id": "rAe-oyB32-A6"
      }
    },
    {
      "cell_type": "code",
      "source": [
        "arr = np.arange(10)\n",
        "arr[arr % 2 == 1]"
      ],
      "metadata": {
        "colab": {
          "base_uri": "https://localhost:8080/"
        },
        "id": "SW9Y_MEb15re",
        "outputId": "b0655ff7-b5e0-480f-c6e3-e375eb510bf7"
      },
      "execution_count": 29,
      "outputs": [
        {
          "output_type": "execute_result",
          "data": {
            "text/plain": [
              "array([1, 3, 5, 7, 9])"
            ]
          },
          "metadata": {},
          "execution_count": 29
        }
      ]
    },
    {
      "cell_type": "markdown",
      "source": [
        "#**5. How to replace items that satisfy a condition with another value in numpy array?**\n",
        "Difficulty Level: L1 \n",
        "\n",
        "Q. Replace all odd numbers in arr with -1.\n",
        "\n",
        "Input:\n",
        "\n",
        "> arr = np.array([0, 1, 2, 3, 4, 5, 6, 7, 8, 9])\n",
        "\n",
        "Desired Output:\n",
        "\n",
        "> array([ 0, -1,  2, -1,  4, -1,  6, -1,  8, -1])"
      ],
      "metadata": {
        "id": "tmmKvBbf4Cwr"
      }
    },
    {
      "cell_type": "code",
      "source": [
        "arr = np.arange(10)\n",
        "arr[arr % 2 == 1] = -1\n",
        "arr"
      ],
      "metadata": {
        "colab": {
          "base_uri": "https://localhost:8080/"
        },
        "id": "hB2FqKX632GI",
        "outputId": "d02cacff-ae94-44e6-bf07-10463caf8e47"
      },
      "execution_count": 27,
      "outputs": [
        {
          "output_type": "execute_result",
          "data": {
            "text/plain": [
              "array([ 0, -1,  2, -1,  4, -1,  6, -1,  8, -1])"
            ]
          },
          "metadata": {},
          "execution_count": 27
        }
      ]
    },
    {
      "cell_type": "markdown",
      "source": [
        "#**6. How to replace items that satisfy a condition without affecting the original array?**\n",
        "\n",
        "Difficulty Level: L2 \n",
        "\n",
        "Q. Replace all odd numbers in arr with -1 without changing arr.\n",
        "\n",
        " Input:\n",
        "> arr = np.array([0, 1, 2, 3, 4, 5, 6, 7, 8, 9])\n",
        "\n",
        "Desired Output:\n",
        "\n",
        "> array([ 0, -1,  2, -1,  4, -1,  6, -1,  8, -1])"
      ],
      "metadata": {
        "id": "fdI07Mci9ONC"
      }
    },
    {
      "cell_type": "code",
      "source": [
        "arr = np.arange(10)\n",
        "arr_modified = np.where(arr % 2 == 1, -1, arr)\n",
        "print(arr)\n",
        "print(arr_modified)"
      ],
      "metadata": {
        "colab": {
          "base_uri": "https://localhost:8080/"
        },
        "id": "gtaWC5Q28qm_",
        "outputId": "19b3fa3f-c80e-4fb6-d023-1576980faee9"
      },
      "execution_count": 32,
      "outputs": [
        {
          "output_type": "stream",
          "name": "stdout",
          "text": [
            "[0 1 2 3 4 5 6 7 8 9]\n",
            "[ 0 -1  2 -1  4 -1  6 -1  8 -1]\n"
          ]
        }
      ]
    },
    {
      "cell_type": "markdown",
      "source": [
        "#**7. How to reshape an array?**\n",
        "\n",
        "Difficulty Level: L1 \n",
        "\n",
        "Q. Convert a 1D array to a 2D array with 2 rows.\n",
        "\n",
        "Input:\n",
        "\n",
        "> np.arange(10)\n",
        "\n",
        "> array([ 0, 1, 2, 3, 4, 5, 6, 7, 8, 9])\n",
        "\n",
        "Desired Output:\n",
        "\n",
        "> array([[0, 1, 2, 3, 4], [5, 6, 7, 8, 9]])"
      ],
      "metadata": {
        "id": "Rn4tvMUl_r-G"
      }
    },
    {
      "cell_type": "code",
      "source": [
        "arr = np.arange(10)\n",
        "print(arr)\n",
        "arr_reshaped = arr.reshape(2,5)\n",
        "print('\\n',arr_reshaped)"
      ],
      "metadata": {
        "colab": {
          "base_uri": "https://localhost:8080/"
        },
        "id": "ucoHkWPm-AU7",
        "outputId": "d55b2def-4c0e-48e2-fbf3-af78ebce1584"
      },
      "execution_count": 36,
      "outputs": [
        {
          "output_type": "stream",
          "name": "stdout",
          "text": [
            "[0 1 2 3 4 5 6 7 8 9]\n",
            "\n",
            " [[0 1 2 3 4]\n",
            " [5 6 7 8 9]]\n"
          ]
        }
      ]
    },
    {
      "cell_type": "markdown",
      "source": [
        "#**8. How to stack two arrays vertically?**\n",
        "Difficulty Level: L2 \n",
        "\n",
        "Q. Stack arrays a and b vertically.\n",
        "\n",
        "Input\n",
        "\n",
        "> a = np.arange(10).reshape(2,-1)\n",
        "\n",
        "> b = np.repeat(1, 10).reshape(2,-1)\n",
        "\n",
        "Desired Output:\n",
        "> array([[0, 1, 2, 3, 4], [5, 6, 7, 8, 9], [1, 1, 1, 1, 1], [1, 1, 1, 1, 1]])"
      ],
      "metadata": {
        "id": "JYmpVRlSAsVA"
      }
    },
    {
      "cell_type": "code",
      "source": [
        "a = np.arange(10).reshape(2,-1)\n",
        "b = np.repeat(1,10).reshape(2,-1)\n",
        "\n",
        "#Method 1\n",
        "c = np.concatenate([a,b], axis=0)\n",
        "print(c, '\\n')\n",
        "\n",
        "#Method 2\n",
        "c = np.vstack([a,b])\n",
        "print(c, '\\n')\n",
        "\n",
        "#Method 3\n",
        "c = np.r_[a,b]\n",
        "print(c)"
      ],
      "metadata": {
        "colab": {
          "base_uri": "https://localhost:8080/"
        },
        "id": "rIB42kJuASZR",
        "outputId": "ba027829-2ff9-4870-fa64-c5e0647d3704"
      },
      "execution_count": 53,
      "outputs": [
        {
          "output_type": "stream",
          "name": "stdout",
          "text": [
            "[[0 1 2 3 4]\n",
            " [5 6 7 8 9]\n",
            " [1 1 1 1 1]\n",
            " [1 1 1 1 1]] \n",
            "\n",
            "[[0 1 2 3 4]\n",
            " [5 6 7 8 9]\n",
            " [1 1 1 1 1]\n",
            " [1 1 1 1 1]] \n",
            "\n",
            "[[0 1 2 3 4]\n",
            " [5 6 7 8 9]\n",
            " [1 1 1 1 1]\n",
            " [1 1 1 1 1]]\n"
          ]
        }
      ]
    },
    {
      "cell_type": "markdown",
      "source": [
        "#**9. How to stack two arrays horizontally?**\n",
        "Difficulty Level: L2 \n",
        "\n",
        "Q. Stack the arrays a and b horizontally. \n",
        "\n",
        "Input\n",
        "\n",
        "> a = np.arange(10).reshape(2,-1)\n",
        "\n",
        "> b = np.repeat(1, 10).reshape(2,-1)\n",
        "\n",
        "Desired Output:\n",
        "\n",
        "> array([[0, 1, 2, 3, 4, 1, 1, 1, 1, 1], [5, 6, 7, 8, 9, 1, 1, 1, 1, 1]])"
      ],
      "metadata": {
        "id": "z1lm3MPxD0bW"
      }
    },
    {
      "cell_type": "code",
      "source": [
        "a = np.arange(10).reshape(2,-1)\n",
        "b = np.arange(10).reshape(2,-1)\n",
        "\n",
        "#Method 1\n",
        "c = np.concatenate([a,b], axis=1)\n",
        "print(c, '\\n')\n",
        "\n",
        "#Method 2\n",
        "c = np.hstack([a,b])\n",
        "print(c, '\\n')\n",
        "\n",
        "#Method 3\n",
        "c = np.c_[a,b]\n",
        "print(c)"
      ],
      "metadata": {
        "colab": {
          "base_uri": "https://localhost:8080/"
        },
        "id": "JzlNEPLFBCv_",
        "outputId": "92981477-51c8-432e-9e0c-4b4fb0cb1826"
      },
      "execution_count": 55,
      "outputs": [
        {
          "output_type": "stream",
          "name": "stdout",
          "text": [
            "[[0 1 2 3 4 0 1 2 3 4]\n",
            " [5 6 7 8 9 5 6 7 8 9]] \n",
            "\n",
            "[[0 1 2 3 4 0 1 2 3 4]\n",
            " [5 6 7 8 9 5 6 7 8 9]] \n",
            "\n",
            "[[0 1 2 3 4 0 1 2 3 4]\n",
            " [5 6 7 8 9 5 6 7 8 9]]\n"
          ]
        }
      ]
    },
    {
      "cell_type": "markdown",
      "source": [
        "#**10. How to generate custom sequences in numpy without hardcoding?**\n",
        "Difficulty Level: L2 \n",
        "\n",
        "Q. Create the following pattern without hardcoding. Use only numpy functions and the below input array a. \n",
        "\n",
        "Input:\n",
        "\n",
        "> a = np.array([1,2,3])`\n",
        "\n",
        "Desired Output:\n",
        "\n",
        "> array([1, 1, 1, 2, 2, 2, 3, 3, 3, 1, 2, 3, 1, 2, 3, 1, 2, 3])"
      ],
      "metadata": {
        "id": "cLNCaTMuHrDH"
      }
    },
    {
      "cell_type": "code",
      "source": [
        "a = np.array([1,2,3])\n",
        "b = np.r_[np.repeat(a,3), np.tile(a,3)]\n",
        "b"
      ],
      "metadata": {
        "colab": {
          "base_uri": "https://localhost:8080/"
        },
        "id": "-sPmp4_FFPbQ",
        "outputId": "607cbda4-5224-4140-84ce-d4a6bc3115f7"
      },
      "execution_count": 57,
      "outputs": [
        {
          "output_type": "execute_result",
          "data": {
            "text/plain": [
              "array([1, 1, 1, 2, 2, 2, 3, 3, 3, 1, 2, 3, 1, 2, 3, 1, 2, 3])"
            ]
          },
          "metadata": {},
          "execution_count": 57
        }
      ]
    },
    {
      "cell_type": "code",
      "source": [
        ""
      ],
      "metadata": {
        "id": "T_bXk0h3Ig8Q"
      },
      "execution_count": null,
      "outputs": []
    }
  ]
}