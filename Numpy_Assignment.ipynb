{
  "nbformat": 4,
  "nbformat_minor": 0,
  "metadata": {
    "colab": {
      "name": "Numpy Assignment.ipynb",
      "provenance": []
    },
    "kernelspec": {
      "name": "python3",
      "display_name": "Python 3"
    },
    "language_info": {
      "name": "python"
    }
  },
  "cells": [
    {
      "cell_type": "markdown",
      "source": [
        "#**Numpy Assignment**"
      ],
      "metadata": {
        "id": "HkBTGpYSWx_C"
      }
    },
    {
      "cell_type": "markdown",
      "source": [
        "1. Import NumPy Library as np\n"
      ],
      "metadata": {
        "id": "AFiy_WUhXFD3"
      }
    },
    {
      "cell_type": "code",
      "source": [
        "import numpy as np"
      ],
      "metadata": {
        "id": "t9DWuFM0Xvdv"
      },
      "execution_count": 1,
      "outputs": []
    },
    {
      "cell_type": "markdown",
      "source": [
        "2. Create an array of integers starting from 15 to 40 and store it in a variable called array1\n",
        "\n"
      ],
      "metadata": {
        "id": "c2FFCrT8XQ3n"
      }
    },
    {
      "cell_type": "code",
      "source": [
        "array1 = np.arange(15,40)\n",
        "array1"
      ],
      "metadata": {
        "colab": {
          "base_uri": "https://localhost:8080/"
        },
        "id": "i9SrPyYDX109",
        "outputId": "ac28115d-5b11-4a05-90f9-75501df34bb9"
      },
      "execution_count": null,
      "outputs": [
        {
          "output_type": "execute_result",
          "data": {
            "text/plain": [
              "array([15, 16, 17, 18, 19, 20, 21, 22, 23, 24, 25, 26, 27, 28, 29, 30, 31,\n",
              "       32, 33, 34, 35, 36, 37, 38, 39])"
            ]
          },
          "metadata": {},
          "execution_count": 4
        }
      ]
    },
    {
      "cell_type": "markdown",
      "source": [
        "2.1. Create a second array of integers starting from 10 until 25 and store it in a variable called array2\n"
      ],
      "metadata": {
        "id": "TijCvZvnXRGf"
      }
    },
    {
      "cell_type": "code",
      "source": [
        "array2 = np.random.randint(10,25)\n",
        "array2"
      ],
      "metadata": {
        "colab": {
          "base_uri": "https://localhost:8080/"
        },
        "id": "Gvn81esjYE_v",
        "outputId": "c6b29066-e2e0-4089-8920-84d013f696f0"
      },
      "execution_count": null,
      "outputs": [
        {
          "output_type": "execute_result",
          "data": {
            "text/plain": [
              "24"
            ]
          },
          "metadata": {},
          "execution_count": 9
        }
      ]
    },
    {
      "cell_type": "markdown",
      "source": [
        "2.2. What is the difference between the two arrays?\n"
      ],
      "metadata": {
        "id": "uIr7GhcJXRV-"
      }
    },
    {
      "cell_type": "code",
      "source": [
        "# I used np.arange() to generate the first array, so the difference was that the arange function\n",
        "# created a list, while the randint function only got one value randomly generated."
      ],
      "metadata": {
        "id": "yiO9tcgoYL0R"
      },
      "execution_count": null,
      "outputs": []
    },
    {
      "cell_type": "markdown",
      "source": [
        "3. Create an array of all even integers from 2 to 20 and name it even_aaray1\n"
      ],
      "metadata": {
        "id": "D_3y7uRhXRfd"
      }
    },
    {
      "cell_type": "code",
      "source": [
        "even_array1 = np.arange(2,20,2)\n",
        "even_array1.shape"
      ],
      "metadata": {
        "colab": {
          "base_uri": "https://localhost:8080/"
        },
        "id": "TbifddQoantv",
        "outputId": "47072d94-4beb-4ba0-ee57-afa01d2bb88f"
      },
      "execution_count": null,
      "outputs": [
        {
          "output_type": "execute_result",
          "data": {
            "text/plain": [
              "(9,)"
            ]
          },
          "metadata": {},
          "execution_count": 29
        }
      ]
    },
    {
      "cell_type": "markdown",
      "source": [
        "3.1. Create an array of all even integers from 34 to 42 and name it even_array2\n"
      ],
      "metadata": {
        "id": "KdEpBv91XRkf"
      }
    },
    {
      "cell_type": "code",
      "source": [
        "even_array2 = np.arange(34,42,2)\n",
        "even_array2.shape"
      ],
      "metadata": {
        "colab": {
          "base_uri": "https://localhost:8080/"
        },
        "id": "I7j3C2hTa_hH",
        "outputId": "67a3542f-e444-45a6-e437-4b245885d8d2"
      },
      "execution_count": null,
      "outputs": [
        {
          "output_type": "execute_result",
          "data": {
            "text/plain": [
              "(4,)"
            ]
          },
          "metadata": {},
          "execution_count": 33
        }
      ]
    },
    {
      "cell_type": "markdown",
      "source": [
        "3.2. Create a matrix of the two arrays using the stack function\n"
      ],
      "metadata": {
        "id": "Maa9REeXXRon"
      }
    },
    {
      "cell_type": "code",
      "source": [
        "matrix = np.stack((even_array1, even_array2), axis=1)\n",
        "matrix"
      ],
      "metadata": {
        "id": "fQwtFwWDbJ-q"
      },
      "execution_count": null,
      "outputs": []
    },
    {
      "cell_type": "markdown",
      "source": [
        "4. Create a 6×6 matrix with values ranging from 0 to 36 and retrieve the intersection of the 3rd row and 2nd column\n"
      ],
      "metadata": {
        "id": "ICYjNk-yXRt6"
      }
    },
    {
      "cell_type": "code",
      "source": [
        "matrix_6x6 = np.arange(36).reshape(6,6)\n",
        "print(matrix_6x6)\n",
        "matrix_intersec = matrix_6x6[3,2]\n",
        "print('\\n',matrix_intersec)"
      ],
      "metadata": {
        "colab": {
          "base_uri": "https://localhost:8080/"
        },
        "id": "0BJ9NHn6jASY",
        "outputId": "0ac0a90b-372f-42f7-b280-fa702bb04b74"
      },
      "execution_count": 2,
      "outputs": [
        {
          "output_type": "stream",
          "name": "stdout",
          "text": [
            "[[ 0  1  2  3  4  5]\n",
            " [ 6  7  8  9 10 11]\n",
            " [12 13 14 15 16 17]\n",
            " [18 19 20 21 22 23]\n",
            " [24 25 26 27 28 29]\n",
            " [30 31 32 33 34 35]]\n",
            "\n",
            " 20\n"
          ]
        }
      ]
    },
    {
      "cell_type": "markdown",
      "source": [
        "4.1. Create a 5×2 matrix from a standard normal distribution generated with python.\n"
      ],
      "metadata": {
        "id": "3s_eG2aHXRyH"
      }
    },
    {
      "cell_type": "code",
      "source": [
        "matrix_5x2 = np.random.randn(5,2)\n",
        "matrix_5x2"
      ],
      "metadata": {
        "colab": {
          "base_uri": "https://localhost:8080/"
        },
        "id": "UqWCNtXwkin6",
        "outputId": "e4f68988-c230-477e-bc17-11ea3029b68f"
      },
      "execution_count": null,
      "outputs": [
        {
          "output_type": "execute_result",
          "data": {
            "text/plain": [
              "array([[ 0.07503153,  0.03667712],\n",
              "       [-0.98951186, -0.70877924],\n",
              "       [ 0.38574835,  1.17211463],\n",
              "       [ 0.29765197, -0.8741465 ],\n",
              "       [-1.37969587, -1.6941432 ]])"
            ]
          },
          "metadata": {},
          "execution_count": 51
        }
      ]
    },
    {
      "cell_type": "markdown",
      "source": [
        "4.2. Retrieve the value intersecting the last row and the last column of your matrix\n"
      ],
      "metadata": {
        "id": "9EOn4sLNXR48"
      }
    },
    {
      "cell_type": "code",
      "source": [
        "matrix_5x2[-1,-1]"
      ],
      "metadata": {
        "colab": {
          "base_uri": "https://localhost:8080/"
        },
        "id": "8KAZG6LRlVO0",
        "outputId": "19bb1df5-96b3-4827-ee77-afdc63325474"
      },
      "execution_count": null,
      "outputs": [
        {
          "output_type": "execute_result",
          "data": {
            "text/plain": [
              "-1.6941431956144786"
            ]
          },
          "metadata": {},
          "execution_count": 54
        }
      ]
    },
    {
      "cell_type": "markdown",
      "source": [
        "5. Using your matrix created at 4.1, calculate the following:\n",
        "\n",
        "\n",
        "---\n",
        "\n",
        "\n",
        "   a. minimum of the matrix\n",
        "\n"
      ],
      "metadata": {
        "id": "udgccbxpXR_h"
      }
    },
    {
      "cell_type": "code",
      "source": [
        "np.amin(matrix_5x2)"
      ],
      "metadata": {
        "colab": {
          "base_uri": "https://localhost:8080/"
        },
        "id": "5kF-rlAonI7b",
        "outputId": "f5795911-0629-4079-aae0-bcf1f894c7c0"
      },
      "execution_count": null,
      "outputs": [
        {
          "output_type": "execute_result",
          "data": {
            "text/plain": [
              "-1.6941431956144786"
            ]
          },
          "metadata": {},
          "execution_count": 58
        }
      ]
    },
    {
      "cell_type": "markdown",
      "source": [
        "\n",
        "---\n",
        "\n",
        "\n",
        "   b. maximum of the matrix\n",
        "\n"
      ],
      "metadata": {
        "id": "fRGu-FI4nAj7"
      }
    },
    {
      "cell_type": "code",
      "source": [
        "np.amax(matrix_5x2)"
      ],
      "metadata": {
        "colab": {
          "base_uri": "https://localhost:8080/"
        },
        "id": "xgtJruyDnmxQ",
        "outputId": "55da770f-786e-432b-b50a-f7b931c608ce"
      },
      "execution_count": null,
      "outputs": [
        {
          "output_type": "execute_result",
          "data": {
            "text/plain": [
              "1.1721146284020412"
            ]
          },
          "metadata": {},
          "execution_count": 59
        }
      ]
    },
    {
      "cell_type": "markdown",
      "source": [
        "\n",
        "---\n",
        "\n",
        "\n",
        "   c. standard deviation of the matrix\n",
        "\n"
      ],
      "metadata": {
        "id": "vac69ooJnAxK"
      }
    },
    {
      "cell_type": "code",
      "source": [
        "np.std(matrix_5x2)"
      ],
      "metadata": {
        "colab": {
          "base_uri": "https://localhost:8080/"
        },
        "id": "91ZGzZpRnzRA",
        "outputId": "9bd8043a-44f0-409c-ac69-9a0a7420fb66"
      },
      "execution_count": null,
      "outputs": [
        {
          "output_type": "execute_result",
          "data": {
            "text/plain": [
              "0.8534634543123727"
            ]
          },
          "metadata": {},
          "execution_count": 60
        }
      ]
    },
    {
      "cell_type": "markdown",
      "source": [
        "\n",
        "---\n",
        "\n",
        "\n",
        "  d. variance of the matrix\n",
        "\n"
      ],
      "metadata": {
        "id": "ImcQetg9nA5F"
      }
    },
    {
      "cell_type": "code",
      "source": [
        "matrix_5x2.var()"
      ],
      "metadata": {
        "colab": {
          "base_uri": "https://localhost:8080/"
        },
        "id": "dGtNOX59n9Xo",
        "outputId": "d5cdb8da-1c03-4aa6-c17c-7589936100c8"
      },
      "execution_count": null,
      "outputs": [
        {
          "output_type": "execute_result",
          "data": {
            "text/plain": [
              "0.7283998678468074"
            ]
          },
          "metadata": {},
          "execution_count": 63
        }
      ]
    },
    {
      "cell_type": "markdown",
      "source": [
        "\n",
        "---\n",
        "\n",
        "  e. mean of the matrix"
      ],
      "metadata": {
        "id": "z7YgE1CjnBJC"
      }
    },
    {
      "cell_type": "code",
      "source": [
        "matrix_5x2.mean()"
      ],
      "metadata": {
        "id": "vFUUnwvToTDA",
        "outputId": "dc85f533-6b2b-45d8-c211-a3a44f0e822f",
        "colab": {
          "base_uri": "https://localhost:8080/"
        }
      },
      "execution_count": null,
      "outputs": [
        {
          "output_type": "execute_result",
          "data": {
            "text/plain": [
              "-0.3679053064197455"
            ]
          },
          "metadata": {},
          "execution_count": 64
        }
      ]
    }
  ]
}